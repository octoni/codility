{
  "nbformat": 4,
  "nbformat_minor": 0,
  "metadata": {
    "colab": {
      "provenance": [],
      "authorship_tag": "ABX9TyNsm8GgFNgGJawAyosSnw7i",
      "include_colab_link": true
    },
    "kernelspec": {
      "name": "python3",
      "display_name": "Python 3"
    },
    "language_info": {
      "name": "python"
    }
  },
  "cells": [
    {
      "cell_type": "markdown",
      "metadata": {
        "id": "view-in-github",
        "colab_type": "text"
      },
      "source": [
        "<a href=\"https://colab.research.google.com/github/octoni/codility/blob/main/FrogRiverOne.ipynb\" target=\"_parent\"><img src=\"https://colab.research.google.com/assets/colab-badge.svg\" alt=\"Open In Colab\"/></a>"
      ]
    },
    {
      "cell_type": "markdown",
      "source": [
        "# Lesson : Counting Element\n",
        "\n",
        "\n",
        "**FrogRiverOne**\n",
        "\n",
        "Problem: leaves fall at positions 1..X over time (array A indexed by time). Return earliest time when all positions 1..X have at least one leaf, else -1.\n",
        "Core idea: track which positions have leaves and a counter of remaining positions.\n"
      ],
      "metadata": {
        "id": "xkuyHZcH-_Hv"
      }
    },
    {
      "cell_type": "code",
      "source": [
        "\n",
        "Pseudocode\n",
        "\n",
        "seen = boolean array of size X+1\n",
        "remaining = X\n",
        "for t from 0..len(A)-1:\n",
        "    pos = A[t]\n",
        "    if 1<=pos<=X and not seen[pos]:\n",
        "        seen[pos]=True; remaining -=1\n",
        "        if remaining==0: return t\n",
        "return -1"
      ],
      "metadata": {
        "id": "0bBI_HB2_M2T"
      },
      "execution_count": null,
      "outputs": []
    },
    {
      "cell_type": "code",
      "source": [
        "def frog_river_one(X, A):\n",
        "    seen = [False] * (X + 1)           # track leaves at positions 0..X (ignore 0)\n",
        "    remaining = X                      # how many distinct positions still needed\n",
        "    for t, pos in enumerate(A):        # t = time index, pos = leaf position at time t\n",
        "        if 1 <= pos <= X and not seen[pos]:  # valid new leaf position\n",
        "            seen[pos] = True           # mark as covered\n",
        "            remaining -= 1             # one less required\n",
        "            if remaining == 0:         # all positions now have leaves\n",
        "                return t               # earliest time when all positions covered\n",
        "    return -1                           # never fully covered\n"
      ],
      "metadata": {
        "id": "qzptMc4P-D2m"
      },
      "execution_count": null,
      "outputs": []
    },
    {
      "cell_type": "code",
      "source": [
        "X = 5\n",
        "A =  [1, 3, 1, 4, 2, 3, 5, 4]\n",
        "\n",
        "print(frog_river_one (X,A))\n"
      ],
      "metadata": {
        "id": "gZhDJmjU-FKS",
        "colab": {
          "base_uri": "https://localhost:8080/"
        },
        "outputId": "5bfef7a1-e0ee-42c4-ada7-d28f4e450f6c"
      },
      "execution_count": null,
      "outputs": [
        {
          "output_type": "stream",
          "name": "stdout",
          "text": [
            "6\n"
          ]
        }
      ]
    }
  ]
}