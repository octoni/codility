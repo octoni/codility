{
  "nbformat": 4,
  "nbformat_minor": 0,
  "metadata": {
    "colab": {
      "provenance": [],
      "authorship_tag": "ABX9TyNIYXrWAhkFyCuog1Tmo+vs",
      "include_colab_link": true
    },
    "kernelspec": {
      "name": "python3",
      "display_name": "Python 3"
    },
    "language_info": {
      "name": "python"
    }
  },
  "cells": [
    {
      "cell_type": "markdown",
      "metadata": {
        "id": "view-in-github",
        "colab_type": "text"
      },
      "source": [
        "<a href=\"https://colab.research.google.com/github/octoni/codility/blob/main/Stacks%20and%20Queues/StoneWall.ipynb\" target=\"_parent\"><img src=\"https://colab.research.google.com/assets/colab-badge.svg\" alt=\"Open In Colab\"/></a>"
      ]
    },
    {
      "cell_type": "code",
      "execution_count": null,
      "metadata": {
        "id": "g-Jegl8zJpMa"
      },
      "outputs": [],
      "source": []
    },
    {
      "cell_type": "markdown",
      "source": [
        "# **StoneWall**\n",
        "\n",
        "Problem: given heights, build skyline with minimal number of rectangular blocks. Return the minimal block count.\n",
        "Core idea: use a stack to maintain increasing heights. Push when height increases, pop when decreases. Each push corresponds to a new block."
      ],
      "metadata": {
        "id": "hBJPfS6EJ1Ox"
      }
    },
    {
      "cell_type": "code",
      "source": [
        "Pseudocode\n",
        "\n",
        "stack = empty\n",
        "count = 0\n",
        "for h in heights:\n",
        "    while stack not empty and stack.top > h: stack.pop()\n",
        "    if stack empty or stack.top < h:\n",
        "        stack.push(h); count += 1\n",
        "return count"
      ],
      "metadata": {
        "id": "o6SY_Fz4J7pK"
      },
      "execution_count": null,
      "outputs": []
    },
    {
      "cell_type": "code",
      "source": [],
      "metadata": {
        "id": "zFMIEKVpJ8Gx"
      },
      "execution_count": null,
      "outputs": []
    },
    {
      "cell_type": "code",
      "source": [
        "def stone_wall(H):\n",
        "    stack = []                       # heights stack (increasing)\n",
        "    blocks = 0                       # number of blocks needed\n",
        "    for h in H:                      # iterate each height\n",
        "        while stack and stack[-1] > h:  # remove taller blocks not needed\n",
        "            stack.pop()\n",
        "        if not stack or stack[-1] < h:  # new block needed for this height\n",
        "            stack.append(h)             # push height on stack\n",
        "            blocks += 1                 # increment block count\n",
        "        # if equal height: do nothing (reuse block)\n",
        "    return blocks\n"
      ],
      "metadata": {
        "id": "6buTT7nFJ9ba"
      },
      "execution_count": 2,
      "outputs": []
    },
    {
      "cell_type": "code",
      "source": [
        "A =   [8, 8, 5, 7, 9, 8, 7, 4, 8]\n",
        "\n",
        "print(stone_wall(A))\n",
        "\n"
      ],
      "metadata": {
        "colab": {
          "base_uri": "https://localhost:8080/"
        },
        "id": "zkKdMgCjJzHE",
        "outputId": "3ca863f2-06f6-4e16-f19d-6d62fb1cf391"
      },
      "execution_count": 3,
      "outputs": [
        {
          "output_type": "stream",
          "name": "stdout",
          "text": [
            "7\n"
          ]
        }
      ]
    }
  ]
}