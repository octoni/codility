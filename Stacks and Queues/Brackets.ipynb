{
  "nbformat": 4,
  "nbformat_minor": 0,
  "metadata": {
    "colab": {
      "provenance": [],
      "authorship_tag": "ABX9TyOvKyB9AH6daPjPBDuZXf8p",
      "include_colab_link": true
    },
    "kernelspec": {
      "name": "python3",
      "display_name": "Python 3"
    },
    "language_info": {
      "name": "python"
    }
  },
  "cells": [
    {
      "cell_type": "markdown",
      "metadata": {
        "id": "view-in-github",
        "colab_type": "text"
      },
      "source": [
        "<a href=\"https://colab.research.google.com/github/octoni/codility/blob/main/Stacks%20and%20Queues/Brackets.ipynb\" target=\"_parent\"><img src=\"https://colab.research.google.com/assets/colab-badge.svg\" alt=\"Open In Colab\"/></a>"
      ]
    },
    {
      "cell_type": "code",
      "execution_count": null,
      "metadata": {
        "id": "HLMp1hOSIhyl"
      },
      "outputs": [],
      "source": []
    },
    {
      "cell_type": "markdown",
      "source": [
        "## Brackets\n",
        "\n",
        "Problem: check if string S of brackets is properly nested (round, square, curly). Return 1 if correct else 0.\n",
        "Core idea: stack; push openings, match closings to top of stack.\n",
        "\n",
        "Complexity: O(N) time, O(N) space."
      ],
      "metadata": {
        "id": "XpegQR97Ilzs"
      }
    },
    {
      "cell_type": "code",
      "source": [
        "stack = empty\n",
        "pairs = {')':'(', ']':'[', '}':'{'}\n",
        "for ch in S:\n",
        "    if ch in '([{': push ch\n",
        "    else: if stack empty or stack.pop() != pairs[ch]: return 0\n",
        "return 1 if stack empty else 0"
      ],
      "metadata": {
        "id": "oPZfbO50IpQ9"
      },
      "execution_count": null,
      "outputs": []
    },
    {
      "cell_type": "code",
      "source": [
        "def brackets(S):\n",
        "    stack = []                                  # empty stack\n",
        "    pairs = {')': '(', ']': '[', '}': '{'}      # closing->opening map\n",
        "    for ch in S:                                # scan characters\n",
        "        if ch in '([{':                         # opening bracket\n",
        "            stack.append(ch)                    # push onto stack\n",
        "        else:                                   # closing bracket\n",
        "            if not stack:                       # nothing to match with\n",
        "                return 0\n",
        "            top = stack.pop()                   # get last opening\n",
        "            if top != pairs[ch]:                # mismatch\n",
        "                return 0\n",
        "    return 1 if not stack else 0                # must be empty at the end\n"
      ],
      "metadata": {
        "id": "LFSTgOoEIrea"
      },
      "execution_count": 1,
      "outputs": []
    },
    {
      "cell_type": "code",
      "source": [
        "S = '{[()()]}'\n",
        "\n",
        "print(brackets(S))"
      ],
      "metadata": {
        "colab": {
          "base_uri": "https://localhost:8080/"
        },
        "id": "nqMnu8uGI33Q",
        "outputId": "8660ef00-74f3-449b-c572-ce5d5a888ce8"
      },
      "execution_count": 2,
      "outputs": [
        {
          "output_type": "stream",
          "name": "stdout",
          "text": [
            "1\n"
          ]
        }
      ]
    }
  ]
}