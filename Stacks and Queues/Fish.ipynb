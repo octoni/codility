{
  "nbformat": 4,
  "nbformat_minor": 0,
  "metadata": {
    "colab": {
      "provenance": [],
      "authorship_tag": "ABX9TyMQZIlmIjUerCCLF9lNBckV",
      "include_colab_link": true
    },
    "kernelspec": {
      "name": "python3",
      "display_name": "Python 3"
    },
    "language_info": {
      "name": "python"
    }
  },
  "cells": [
    {
      "cell_type": "markdown",
      "metadata": {
        "id": "view-in-github",
        "colab_type": "text"
      },
      "source": [
        "<a href=\"https://colab.research.google.com/github/octoni/codility/blob/main/Stacks%20and%20Queues/Fish.ipynb\" target=\"_parent\"><img src=\"https://colab.research.google.com/assets/colab-badge.svg\" alt=\"Open In Colab\"/></a>"
      ]
    },
    {
      "cell_type": "markdown",
      "source": [
        "## Fish\n",
        "\n",
        "Problem: arrays A (sizes) and B (0 upstream, 1 downstream). When fish meet (one going downstream meets another upstream) bigger fish eats smaller. Count survivors.\n",
        "Core idea: keep a stack of downstream fish sizes; upstream fish fight top of stack until either it dies or stack empties."
      ],
      "metadata": {
        "id": "YtUK2g26Kwtg"
      }
    },
    {
      "cell_type": "code",
      "execution_count": null,
      "metadata": {
        "id": "2zgIJ3RAKs4F"
      },
      "outputs": [],
      "source": [
        "Pseudocode\n",
        "\n",
        "stack_down = empty\n",
        "survivors_up = 0\n",
        "for i in 0..N-1:\n",
        "    size = A[i]\n",
        "    dir = B[i]\n",
        "    if dir == 1: push size into stack_down\n",
        "    else:\n",
        "        while stack_down not empty and stack_down.top < size:\n",
        "            pop stack_down (downstream eaten)\n",
        "        if stack_down empty: survivors_up += 1  # upstream fish survives\n",
        "        else: upstream fish eaten (do nothing)\n",
        "return survivors_up + len(stack_down)"
      ]
    },
    {
      "cell_type": "code",
      "source": [
        "def fish(A, B):\n",
        "    stack_down = []                 # sizes of fish flowing downstream (B==1)\n",
        "    survivors_up = 0                # upstream fish that survive\n",
        "    for size, dir in zip(A, B):     # iterate fish in river order\n",
        "        print(\"size,dir:\",size, dir)\n",
        "        if dir == 1:                # downstream fish: add to stack\n",
        "            stack_down.append(size)\n",
        "            print('append down stream stack:',stack_down)\n",
        "        else:                       # upstream fish: may fight with downstream stack\n",
        "            while stack_down and stack_down[-1] < size:\n",
        "                stack_down.pop()    # downstream fish eaten by upstream fish\n",
        "                print('pop down stream stack:',stack_down)\n",
        "            if not stack_down:      # no downstream fish left to fight\n",
        "                survivors_up += 1   # upstream fish survives\n",
        "            # else: upstream fish is eaten (do nothing)\n",
        "    return survivors_up + len(stack_down)  # survivors = surviving upstream + remaining downstream\n"
      ],
      "metadata": {
        "id": "pQCLHnmZK3p4"
      },
      "execution_count": 6,
      "outputs": []
    },
    {
      "cell_type": "code",
      "source": [
        "A = [4, 3, 2, 1, 5]\n",
        "B =  [0, 1, 0, 0, 0]\n",
        "\n",
        "print(fish(A,B))"
      ],
      "metadata": {
        "colab": {
          "base_uri": "https://localhost:8080/"
        },
        "id": "0KfHqaQxKtez",
        "outputId": "3f23c9a6-c732-4d99-e59e-aff9d5c24427"
      },
      "execution_count": 7,
      "outputs": [
        {
          "output_type": "stream",
          "name": "stdout",
          "text": [
            "size,dir: 4 0\n",
            "size,dir: 3 1\n",
            "append down stream stack: [3]\n",
            "size,dir: 2 0\n",
            "size,dir: 1 0\n",
            "size,dir: 5 0\n",
            "pop down stream stack: []\n",
            "2\n"
          ]
        }
      ]
    },
    {
      "cell_type": "code",
      "source": [
        "\n",
        "stack_down =  [4, 3, 2, 1, 5]\n",
        "while stack_down:\n",
        "  print(\"top : \",stack_down[-1])\n",
        "  stack_down.pop()\n",
        "  print('stack_down:',stack_down)\n"
      ],
      "metadata": {
        "id": "4uS9zjS7D97f",
        "outputId": "83cf8a24-6ee9-46b5-ae9e-c8f31b11416d",
        "colab": {
          "base_uri": "https://localhost:8080/"
        }
      },
      "execution_count": 9,
      "outputs": [
        {
          "output_type": "stream",
          "name": "stdout",
          "text": [
            "top :  5\n",
            "stack_down: [4, 3, 2, 1]\n",
            "top :  1\n",
            "stack_down: [4, 3, 2]\n",
            "top :  2\n",
            "stack_down: [4, 3]\n",
            "top :  3\n",
            "stack_down: [4]\n",
            "top :  4\n",
            "stack_down: []\n"
          ]
        }
      ]
    }
  ]
}