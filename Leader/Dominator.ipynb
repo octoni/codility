{
  "nbformat": 4,
  "nbformat_minor": 0,
  "metadata": {
    "colab": {
      "provenance": [],
      "authorship_tag": "ABX9TyNLQMVadxCCfKu02CoYb1wG",
      "include_colab_link": true
    },
    "kernelspec": {
      "name": "python3",
      "display_name": "Python 3"
    },
    "language_info": {
      "name": "python"
    }
  },
  "cells": [
    {
      "cell_type": "markdown",
      "metadata": {
        "id": "view-in-github",
        "colab_type": "text"
      },
      "source": [
        "<a href=\"https://colab.research.google.com/github/octoni/codility/blob/main/Leader/Dominator.ipynb\" target=\"_parent\"><img src=\"https://colab.research.google.com/assets/colab-badge.svg\" alt=\"Open In Colab\"/></a>"
      ]
    },
    {
      "cell_type": "code",
      "execution_count": 24,
      "metadata": {
        "id": "ADoG046uP2IX"
      },
      "outputs": [],
      "source": [
        "def leader(A):\n",
        "    size = 0\n",
        "    candidate = None\n",
        "\n",
        "    print (\"A : \",A)\n",
        "    # Step 1: find candidate\n",
        "    for x in A:\n",
        "        print(\"x, size:\", x,size)\n",
        "\n",
        "        if size == 0:\n",
        "            candidate = x\n",
        "            size = 1\n",
        "            print(\"if size = 0 then  x, size:\", x,size)\n",
        "        elif x == candidate:\n",
        "            size += 1\n",
        "            print(\"elif x == candidate >> x, size:\", x,size)\n",
        "        else:\n",
        "            size -= 1\n",
        "            print(\"else size -= 1 >> x, size:\", x,size)\n",
        "\n",
        "    # Step 2: verify candidate\\\n",
        "    print ('final candidate:',candidate)\n",
        "    if candidate is not None and A.count(candidate) > len(A)//2:\n",
        "        return A.index(candidate)  # return any index of dominator\n",
        "    return -1\n"
      ]
    },
    {
      "cell_type": "code",
      "source": [
        "A = [3, 4, 3, 2, 3, -1, 3, 3]\n",
        "\n",
        "print(leader(A))"
      ],
      "metadata": {
        "colab": {
          "base_uri": "https://localhost:8080/"
        },
        "id": "zZdr4sLwQBk5",
        "outputId": "41f23885-8453-4e5e-be05-5ae0746bb86e"
      },
      "execution_count": 25,
      "outputs": [
        {
          "output_type": "stream",
          "name": "stdout",
          "text": [
            "A :  [3, 4, 3, 2, 3, -1, 3, 3]\n",
            "x, size: 3 0\n",
            "if size = 0 then  x, size: 3 1\n",
            "x, size: 4 1\n",
            "else size -= 1 >> x, size: 4 0\n",
            "x, size: 3 0\n",
            "if size = 0 then  x, size: 3 1\n",
            "x, size: 2 1\n",
            "else size -= 1 >> x, size: 2 0\n",
            "x, size: 3 0\n",
            "if size = 0 then  x, size: 3 1\n",
            "x, size: -1 1\n",
            "else size -= 1 >> x, size: -1 0\n",
            "x, size: 3 0\n",
            "if size = 0 then  x, size: 3 1\n",
            "x, size: 3 1\n",
            "elif x == candidate >> x, size: 3 2\n",
            "final candidate: 3\n",
            "0\n"
          ]
        }
      ]
    }
  ]
}