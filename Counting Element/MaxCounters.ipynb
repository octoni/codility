{
  "nbformat": 4,
  "nbformat_minor": 0,
  "metadata": {
    "colab": {
      "provenance": [],
      "authorship_tag": "ABX9TyO0PkcsrWwIHfXU3GmfuPOZ",
      "include_colab_link": true
    },
    "kernelspec": {
      "name": "python3",
      "display_name": "Python 3"
    },
    "language_info": {
      "name": "python"
    }
  },
  "cells": [
    {
      "cell_type": "markdown",
      "metadata": {
        "id": "view-in-github",
        "colab_type": "text"
      },
      "source": [
        "<a href=\"https://colab.research.google.com/github/octoni/codility/blob/main/Counting%20Element/MaxCounters.ipynb\" target=\"_parent\"><img src=\"https://colab.research.google.com/assets/colab-badge.svg\" alt=\"Open In Colab\"/></a>"
      ]
    },
    {
      "cell_type": "markdown",
      "source": [
        "## MaxCounters\n",
        "\n",
        "Problem: operations either increase counter X (1..N) or set all counters to max (N+1). Need O(N+M) solution.\n",
        "Core idea: lazy update — track base (value from the last max operation) and current_max. Only update counters individually when necessary.\n",
        "\n",
        "\n",
        "Complexity: O(N + M) time, O(N) space."
      ],
      "metadata": {
        "id": "hL66eReXG0Cw"
      }
    },
    {
      "cell_type": "code",
      "execution_count": null,
      "metadata": {
        "id": "n2OXYrYKGx3o"
      },
      "outputs": [],
      "source": [
        "Pseudocode\n",
        "\n",
        "counters = [0]*N\n",
        "base = 0\n",
        "current_max = 0\n",
        "for op in ops:\n",
        "    if op == N+1:\n",
        "        base = current_max\n",
        "    else:\n",
        "        idx = op-1\n",
        "        if counters[idx] < base: counters[idx] = base\n",
        "        counters[idx] += 1\n",
        "        current_max = max(current_max, counters[idx])\n",
        "for i in 0..N-1:\n",
        "    if counters[i] < base: counters[i] = base\n",
        "return counters"
      ]
    },
    {
      "cell_type": "code",
      "source": [
        "def max_counters(N, ops):\n",
        "    counters = [0] * N                   # initialize counters\n",
        "    base = 0                             # base after last 'max counter' op\n",
        "    current_max = 0                      # current maximum counter\n",
        "    for op in ops:                       # iterate operations\n",
        "        if op == N + 1:                  # max counter operation\n",
        "            base = current_max           # lazily set base to current_max\n",
        "        else:\n",
        "            idx = op - 1                 # convert to 0-based index\n",
        "            if counters[idx] < base:     # if this counter is behind base\n",
        "                counters[idx] = base     # bring it up to base\n",
        "            counters[idx] += 1           # apply increment\n",
        "            if counters[idx] > current_max:\n",
        "                current_max = counters[idx]  # update current_max if needed\n",
        "    # finalize lazy updates: any counter < base must be set to base\n",
        "    for i in range(N):\n",
        "        if counters[i] < base:\n",
        "            counters[i] = base\n",
        "    return counters\n"
      ],
      "metadata": {
        "id": "eFGRVYDeG6rT"
      },
      "execution_count": 3,
      "outputs": []
    },
    {
      "cell_type": "code",
      "source": [
        "N = 5\n",
        "ops = [3, 4, 4, 6, 1, 4, 4]\n",
        "\n",
        "print(max_counters(N,ops))"
      ],
      "metadata": {
        "colab": {
          "base_uri": "https://localhost:8080/"
        },
        "id": "bJk8ikrjHNSl",
        "outputId": "7bdccac9-74b6-41e6-99df-b8f503b5e51e"
      },
      "execution_count": 5,
      "outputs": [
        {
          "output_type": "stream",
          "name": "stdout",
          "text": [
            "[3, 2, 2, 4, 2]\n"
          ]
        }
      ]
    }
  ]
}