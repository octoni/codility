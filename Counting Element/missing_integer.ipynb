{
  "nbformat": 4,
  "nbformat_minor": 0,
  "metadata": {
    "colab": {
      "provenance": [],
      "authorship_tag": "ABX9TyOyB2oBF7dleABehJuShWk/",
      "include_colab_link": true
    },
    "kernelspec": {
      "name": "python3",
      "display_name": "Python 3"
    },
    "language_info": {
      "name": "python"
    }
  },
  "cells": [
    {
      "cell_type": "markdown",
      "metadata": {
        "id": "view-in-github",
        "colab_type": "text"
      },
      "source": [
        "<a href=\"https://colab.research.google.com/github/octoni/codility/blob/main/missing_integer.ipynb\" target=\"_parent\"><img src=\"https://colab.research.google.com/assets/colab-badge.svg\" alt=\"Open In Colab\"/></a>"
      ]
    },
    {
      "cell_type": "markdown",
      "source": [
        "### **MissingInteger**\n",
        "\n",
        "Problem (short): find the smallest positive integer (>0) that does not occur in array A.\n",
        "Core idea: use presence bookkeeping for values 1..N+1 (smallest missing is ≤ N+1 for array length N). O(N) time, O(N) space.\n",
        "\n",
        "Complexity: O(N) time, O(N) space."
      ],
      "metadata": {
        "id": "r0tJF61lCWr9"
      }
    },
    {
      "cell_type": "code",
      "source": [
        "Pseudocode (SQL)\n",
        "\n",
        "N = len(A)\n",
        "present = boolean array of size N+2 (all False)\n",
        "for value in A:\n",
        "    if 1 <= value <= N+1:\n",
        "        present[value] = True\n",
        "for i from 1 to N+1:\n",
        "    if not present[i]:\n",
        "        return i"
      ],
      "metadata": {
        "id": "qhsjXkEV7gmH"
      },
      "execution_count": null,
      "outputs": []
    },
    {
      "cell_type": "code",
      "source": [],
      "metadata": {
        "id": "WMbYPGWj9eyf"
      },
      "execution_count": null,
      "outputs": []
    },
    {
      "cell_type": "code",
      "execution_count": null,
      "metadata": {
        "id": "76HzC0K57N7f"
      },
      "outputs": [],
      "source": [
        "def missing_integer(A):\n",
        "    N = len(A)                         # get array length\n",
        "    present = [False] * (N + 2)        # boolean flags for 0..N+1 (we'll use 1..N+1)\n",
        "    for val in A:                      # iterate input array once\n",
        "        if 1 <= val <= N + 1:          # ignore negatives and values > N+1\n",
        "            present[val] = True        # mark this value as present\n",
        "    for i in range(1, N + 2):          # find first missing in 1..N+1\n",
        "        if not present[i]:             # if not present, that's the answer\n",
        "            return i\n",
        "    return N + 1                       # fallback (shouldn't be reached)\n"
      ]
    },
    {
      "cell_type": "code",
      "source": [
        "A = [1,3,4,5,7]\n",
        "\n",
        "print (missing_integer(A))"
      ],
      "metadata": {
        "colab": {
          "base_uri": "https://localhost:8080/"
        },
        "id": "WUOQSgdi7Q6x",
        "outputId": "fc0d3064-81b3-4eb0-aae9-2ad2083b88dc"
      },
      "execution_count": null,
      "outputs": [
        {
          "output_type": "stream",
          "name": "stdout",
          "text": [
            "2\n"
          ]
        }
      ]
    }
  ]
}
