{
  "nbformat": 4,
  "nbformat_minor": 0,
  "metadata": {
    "colab": {
      "provenance": [],
      "authorship_tag": "ABX9TyPfLJSbBKBceZfzlONoTE/q",
      "include_colab_link": true
    },
    "kernelspec": {
      "name": "python3",
      "display_name": "Python 3"
    },
    "language_info": {
      "name": "python"
    }
  },
  "cells": [
    {
      "cell_type": "markdown",
      "metadata": {
        "id": "view-in-github",
        "colab_type": "text"
      },
      "source": [
        "<a href=\"https://colab.research.google.com/github/octoni/codility/blob/main/PermCheck.ipynb\" target=\"_parent\"><img src=\"https://colab.research.google.com/assets/colab-badge.svg\" alt=\"Open In Colab\"/></a>"
      ]
    },
    {
      "cell_type": "markdown",
      "source": [
        "## Lesson : Counting Element\n",
        "\n",
        "# PermCheck\n",
        "\n",
        "Problem: check if A is a permutation of 1..N. Return 1 if yes, else 0.\n",
        "Core idea: if every number between 1 and N appears exactly once. Use boolean flags or a set.\n",
        "\n",
        "\n",
        "Complexity: O(N) time, O(N) space."
      ],
      "metadata": {
        "id": "2TkCDMAZEajh"
      }
    },
    {
      "cell_type": "code",
      "execution_count": null,
      "metadata": {
        "id": "pAvdRipYEYHE"
      },
      "outputs": [],
      "source": [
        "Pseudocode\n",
        "\n",
        "N = len(A)\n",
        "seen = boolean array size N+1\n",
        "for val in A:\n",
        "    if val <1 or val > N or seen[val]: return 0\n",
        "    seen[val] = True\n",
        "return 1"
      ]
    },
    {
      "cell_type": "code",
      "source": [
        "def perm_check(A):\n",
        "    N = len(A)                          # expected unique numbers are 1..N\n",
        "    seen = [False] * (N + 1)            # index 0 unused\n",
        "    for val in A:                       # check each element\n",
        "        if val < 1 or val > N:          # out of valid range\n",
        "            return 0\n",
        "        if seen[val]:                   # duplicate found\n",
        "            return 0\n",
        "        seen[val] = True                # mark as seen\n",
        "    return 1                            # all 1..N present exactly once\n"
      ],
      "metadata": {
        "id": "QPHISss1Ejri"
      },
      "execution_count": 3,
      "outputs": []
    },
    {
      "cell_type": "code",
      "source": [
        "A = [4, 1, 3, 2]\n",
        "print (perm_check(A))"
      ],
      "metadata": {
        "colab": {
          "base_uri": "https://localhost:8080/"
        },
        "id": "YBpPPb4tEv4M",
        "outputId": "0867e5d5-11af-480e-df80-c0310c10b4b2"
      },
      "execution_count": 4,
      "outputs": [
        {
          "output_type": "stream",
          "name": "stdout",
          "text": [
            "1\n"
          ]
        }
      ]
    }
  ]
}