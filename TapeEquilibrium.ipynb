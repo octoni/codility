{
  "nbformat": 4,
  "nbformat_minor": 0,
  "metadata": {
    "colab": {
      "provenance": [],
      "authorship_tag": "ABX9TyPbjzUFGp6nReQQsYafHk6i",
      "include_colab_link": true
    },
    "kernelspec": {
      "name": "python3",
      "display_name": "Python 3"
    },
    "language_info": {
      "name": "python"
    }
  },
  "cells": [
    {
      "cell_type": "markdown",
      "metadata": {
        "id": "view-in-github",
        "colab_type": "text"
      },
      "source": [
        "<a href=\"https://colab.research.google.com/github/octoni/codility/blob/main/TapeEquilibrium.ipynb\" target=\"_parent\"><img src=\"https://colab.research.google.com/assets/colab-badge.svg\" alt=\"Open In Colab\"/></a>"
      ]
    },
    {
      "cell_type": "markdown",
      "source": [
        "###Lesson  : Time Complexity\n",
        "\n",
        "## TapeEquilibrium\n",
        "\n",
        "Problem: split array A into A[0..P] and A[P+1..N-1] (P in 0..N-2) and minimize abs(sum_left - sum_right).\n",
        "Core idea: compute total sum, then move a running prefix sum and compute abs(total - 2*prefix)."
      ],
      "metadata": {
        "id": "Sv2ZCwQBDQj5"
      }
    },
    {
      "cell_type": "code",
      "execution_count": null,
      "metadata": {
        "id": "XLqnGxBMDM-j"
      },
      "outputs": [],
      "source": [
        "Pseudocode\n",
        "\n",
        "total = sum(A)\n",
        "prefix = 0\n",
        "best = +infinity\n",
        "for i from 0..N-2:\n",
        "    prefix += A[i]\n",
        "    diff = abs(total - 2*prefix)\n",
        "    best = min(best, diff)\n",
        "return best"
      ]
    },
    {
      "cell_type": "code",
      "source": [
        "def tape_equilibrium(A):\n",
        "    total = sum(A)                      # full sum of array\n",
        "    prefix = 0                          # sum of left part\n",
        "    best = float('inf')                 # track minimal difference\n",
        "    for i in range(len(A) - 1):         # P goes from 0 to N-2\n",
        "        prefix += A[i]                  # include A[i] into left\n",
        "        diff = abs(total - 2 * prefix)  # equivalent to abs((prefix) - (total - prefix))\n",
        "        if diff < best:                 # update best if better\n",
        "            best = diff\n",
        "    return best\n"
      ],
      "metadata": {
        "id": "HLsAPh9xDXGj"
      },
      "execution_count": 2,
      "outputs": []
    },
    {
      "cell_type": "code",
      "source": [
        "A = [3, 1, 2, 4, 3]\n",
        "\n",
        "print(tape_equilibrium(A))"
      ],
      "metadata": {
        "colab": {
          "base_uri": "https://localhost:8080/"
        },
        "id": "0DPHLnKGDv8G",
        "outputId": "4fb601b5-9db5-40b2-d16b-97a3b2f50ac0"
      },
      "execution_count": 3,
      "outputs": [
        {
          "output_type": "stream",
          "name": "stdout",
          "text": [
            "1\n"
          ]
        }
      ]
    }
  ]
}