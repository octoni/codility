{
  "nbformat": 4,
  "nbformat_minor": 0,
  "metadata": {
    "colab": {
      "provenance": [],
      "authorship_tag": "ABX9TyNCWpNnNlzhZyj0q5+HMIMt",
      "include_colab_link": true
    },
    "kernelspec": {
      "name": "python3",
      "display_name": "Python 3"
    },
    "language_info": {
      "name": "python"
    }
  },
  "cells": [
    {
      "cell_type": "markdown",
      "metadata": {
        "id": "view-in-github",
        "colab_type": "text"
      },
      "source": [
        "<a href=\"https://colab.research.google.com/github/octoni/codility/blob/main/Prefix%20Sums/MinAvgTwoSlice.ipynb\" target=\"_parent\"><img src=\"https://colab.research.google.com/assets/colab-badge.svg\" alt=\"Open In Colab\"/></a>"
      ]
    },
    {
      "cell_type": "code",
      "execution_count": null,
      "metadata": {
        "id": "HBHnC31hMhUX"
      },
      "outputs": [],
      "source": []
    },
    {
      "cell_type": "markdown",
      "source": [
        "# **MinAvgTwoSlice**\n",
        "\n",
        "Problem: find starting index of slice of length ≥2 with minimal average.\n",
        "Core idea (Codility trick): minimal average slice has length 2 or 3. Check all consecutive pairs and triplets and pick minimal average.\n",
        "\n",
        "Complexity: O(N) time, O(1) space."
      ],
      "metadata": {
        "id": "4q0UlVbSMjy9"
      }
    },
    {
      "cell_type": "code",
      "source": [
        "Pseudocode\n",
        "\n",
        "best_avg = +inf\n",
        "best_pos = 0\n",
        "for i in 0..N-3:\n",
        "    avg2 = (A[i]+A[i+1])/2\n",
        "    avg3 = (A[i]+A[i+1]+A[i+2])/3\n",
        "    update best if smaller\n",
        "check last pair at N-2,N-1\n",
        "return best_pos"
      ],
      "metadata": {
        "id": "-OYK4r4mMnTA"
      },
      "execution_count": null,
      "outputs": []
    },
    {
      "cell_type": "code",
      "source": [
        "def min_avg_two_slice(A):\n",
        "    N = len(A)\n",
        "    best_pos = 0\n",
        "    best_avg = float('inf')\n",
        "    for i in range(N - 2):                # check pairs and triplets starting at i\n",
        "        avg2 = (A[i] + A[i + 1]) / 2.0    # average of slice size 2\n",
        "        if avg2 < best_avg:\n",
        "            best_avg = avg2\n",
        "            best_pos = i\n",
        "        avg3 = (A[i] + A[i + 1] + A[i + 2]) / 3.0  # average of slice size 3\n",
        "        if avg3 < best_avg:\n",
        "            best_avg = avg3\n",
        "            best_pos = i\n",
        "    # check the last pair (N-2, N-1)\n",
        "    if N >= 2:\n",
        "        last_avg2 = (A[N - 2] + A[N - 1]) / 2.0\n",
        "        if last_avg2 < best_avg:\n",
        "            best_avg = last_avg2\n",
        "            best_pos = N - 2\n",
        "    return best_pos\n"
      ],
      "metadata": {
        "id": "-awK0DPJMnzc"
      },
      "execution_count": 2,
      "outputs": []
    },
    {
      "cell_type": "code",
      "source": [
        "A = [4, 2, 2, 5, 1, 5, 8]\n",
        "\n",
        "print(min_avg_two_slice(A))\n"
      ],
      "metadata": {
        "colab": {
          "base_uri": "https://localhost:8080/"
        },
        "id": "_Nw8wIHRM2z4",
        "outputId": "a9f18861-f6df-483f-c1a0-1c22449881aa"
      },
      "execution_count": 3,
      "outputs": [
        {
          "output_type": "stream",
          "name": "stdout",
          "text": [
            "1\n"
          ]
        }
      ]
    }
  ]
}