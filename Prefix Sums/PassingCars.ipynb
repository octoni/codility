{
  "nbformat": 4,
  "nbformat_minor": 0,
  "metadata": {
    "colab": {
      "provenance": [],
      "authorship_tag": "ABX9TyPM317+uYDHLpUozZB/zR8T",
      "include_colab_link": true
    },
    "kernelspec": {
      "name": "python3",
      "display_name": "Python 3"
    },
    "language_info": {
      "name": "python"
    }
  },
  "cells": [
    {
      "cell_type": "markdown",
      "metadata": {
        "id": "view-in-github",
        "colab_type": "text"
      },
      "source": [
        "<a href=\"https://colab.research.google.com/github/octoni/codility/blob/main/Prefix%20Sums/PassingCars.ipynb\" target=\"_parent\"><img src=\"https://colab.research.google.com/assets/colab-badge.svg\" alt=\"Open In Colab\"/></a>"
      ]
    },
    {
      "cell_type": "markdown",
      "source": [
        "## PassingCars\n",
        "\n",
        "Problem: array A of 0s (east) and 1s (west). Count pairs of passing cars: pair(i,j) where i<j, A[i]==0 and A[j]==1. If pairs > 1,000,000,000 return -1.\n",
        "Core idea: count east cars seen so far; when you meet a west car add count_east to answer."
      ],
      "metadata": {
        "id": "wrDKzaGgLnwF"
      }
    },
    {
      "cell_type": "code",
      "source": [
        "Pseudocode\n",
        "\n",
        "east = 0\n",
        "pairs = 0\n",
        "for v in A:\n",
        "    if v == 0: east += 1\n",
        "    else: pairs += east; if pairs > 1e9: return -1\n",
        "return pairs"
      ],
      "metadata": {
        "id": "zeHSXvcRLrz0"
      },
      "execution_count": null,
      "outputs": []
    },
    {
      "cell_type": "code",
      "source": [
        "def passing_cars(A):\n",
        "    east = 0                        # number of cars going east seen so far\n",
        "    pairs = 0                       # passing pairs count\n",
        "    LIMIT = 1000000000              # problem limit\n",
        "    for v in A:                     # scan array\n",
        "        if v == 0:                  # east-moving car\n",
        "            east += 1\n",
        "        else:                       # west-moving car meets all previous east cars\n",
        "            pairs += east           # add pairs for each east car seen earlier\n",
        "            if pairs > LIMIT:       # overflow condition per problem statement\n",
        "                return -1\n",
        "    return pairs\n"
      ],
      "metadata": {
        "id": "Dwk4fBtRLtp3"
      },
      "execution_count": 1,
      "outputs": []
    },
    {
      "cell_type": "code",
      "execution_count": 3,
      "metadata": {
        "colab": {
          "base_uri": "https://localhost:8080/"
        },
        "id": "LU8XFce0Leq4",
        "outputId": "6a640fab-3ee3-48e6-817a-08ab4bee6510"
      },
      "outputs": [
        {
          "output_type": "stream",
          "name": "stdout",
          "text": [
            "5\n"
          ]
        }
      ],
      "source": [
        "\n",
        " A =    [0, 1, 0, 1, 1]\n",
        "\n",
        " print(passing_cars(A))"
      ]
    }
  ]
}